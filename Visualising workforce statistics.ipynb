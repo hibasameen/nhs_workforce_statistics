{
 "cells": [
  {
   "cell_type": "markdown",
   "id": "03d6a94a",
   "metadata": {},
   "source": [
    "# NHS Workforce Statistics Visualisation\n",
    "\n",
    "This code downloads the latest NHS workforce statistics and visualises trends in the data"
   ]
  },
  {
   "cell_type": "code",
   "execution_count": 31,
   "id": "1af49c2f",
   "metadata": {},
   "outputs": [
    {
     "data": {
      "application/vnd.jupyter.widget-view+json": {
       "model_id": "7e28ea708fca40a1b00bc93d829a7c4b",
       "version_major": 2,
       "version_minor": 0
      },
      "text/plain": [
       "Button(description='Download latest data and visualise', style=ButtonStyle())"
      ]
     },
     "metadata": {},
     "output_type": "display_data"
    },
    {
     "data": {
      "text/html": [
       "\n",
       "<script>\n",
       "    var code_show=true; \n",
       "    function code_toggle() {\n",
       "     if (code_show){\n",
       "     $('div.input').hide();\n",
       "     } else {\n",
       "     $('div.input').show();\n",
       "     }\n",
       "     code_show = !code_show\n",
       "    } \n",
       "    $( document ).ready(code_toggle);\n",
       "</script>\n",
       "<form action=\"javascript:code_toggle()\"><input type=\"submit\" value=\"Show code\"></form>\n"
      ],
      "text/plain": [
       "<IPython.core.display.HTML object>"
      ]
     },
     "metadata": {},
     "output_type": "display_data"
    }
   ],
   "source": [
    "import ipywidgets as widgets\n",
    "from IPython.display import display, HTML, Javascript\n",
    "\n",
    "def run_all(ev):\n",
    "    display(Javascript('IPython.notebook.execute_cell_range(IPython.notebook.get_selected_index()+1, IPython.notebook.ncells())'))\n",
    "\n",
    "button = widgets.Button(description=\"Tu\")\n",
    "button.on_click(run_all)\n",
    "display(button)\n",
    "\n",
    "# Code to hide all code cells (useful for presentation)\n",
    "hide_code = \"\"\"\n",
    "<script>\n",
    "    var code_show=true; \n",
    "    function code_toggle() {\n",
    "     if (code_show){\n",
    "     $('div.input').hide();\n",
    "     } else {\n",
    "     $('div.input').show();\n",
    "     }\n",
    "     code_show = !code_show\n",
    "    } \n",
    "    $( document ).ready(code_toggle);\n",
    "</script>\n",
    "<form action=\"javascript:code_toggle()\"><input type=\"submit\" value=\"Show code\"></form>\n",
    "\"\"\"\n",
    "display(HTML(hide_code))\n"
   ]
  },
  {
   "cell_type": "code",
   "execution_count": 24,
   "id": "4f8628c6",
   "metadata": {},
   "outputs": [
    {
     "name": "stdout",
     "output_type": "stream",
     "text": [
      "Full URL to the landing page for the latest statistics: https://digital.nhs.uk/data-and-information/publications/statistical/nhs-workforce-statistics/april-2024\n"
     ]
    }
   ],
   "source": [
    "#Find URL with the latest data\n",
    "\n",
    "import requests\n",
    "from bs4 import BeautifulSoup\n",
    "import re\n",
    "\n",
    "# URL of the NHS workforce statistics page\n",
    "base_url = 'https://digital.nhs.uk'\n",
    "page_url = '/data-and-information/publications/statistical/nhs-workforce-statistics'\n",
    "\n",
    "# Send a GET request\n",
    "response = requests.get(base_url + page_url)\n",
    "response.raise_for_status()  # Ensure the request was successful\n",
    "\n",
    "# Parse the HTML content\n",
    "soup = BeautifulSoup(response.text, 'html.parser')\n",
    "\n",
    "# Find all links that contain a date format typically used for these statistics\n",
    "links_with_dates = soup.find_all('a', string=re.compile(r'\\bJanuary|February|March|April|May|June|July|August|September|October|November|December\\b \\d{4}'))\n",
    "\n",
    "# Check if we found any links and store the full URL\n",
    "if links_with_dates:\n",
    "    # Check if the link is absolute or relative and correct it if necessary\n",
    "    latest_statistic_url = links_with_dates[0]['href']\n",
    "    if not latest_statistic_url.startswith('http'):\n",
    "        latest_statistic_url = base_url + latest_statistic_url\n",
    "    print(\"Full URL to the landing page for the latest statistics:\", latest_statistic_url)\n",
    "else:\n",
    "    print(\"No statistics found\")"
   ]
  },
  {
   "cell_type": "code",
   "execution_count": 25,
   "id": "5c00f98e",
   "metadata": {},
   "outputs": [
    {
     "name": "stdout",
     "output_type": "stream",
     "text": [
      "ZIP file has been downloaded successfully.\n"
     ]
    }
   ],
   "source": [
    "#Find csv zip file on from the lastest statistics landing page and download\n",
    "\n",
    "\n",
    "# Send a GET request to the latest statistics page\n",
    "response = requests.get(latest_statistic_url)\n",
    "response.raise_for_status()  # Ensure the request was successful\n",
    "\n",
    "# Parse the HTML content of the latest statistics page\n",
    "soup = BeautifulSoup(response.text, 'html.parser')\n",
    "\n",
    "# Find the link to the ZIP file containing the statistics\n",
    "zip_link = soup.find('a', href=lambda x: x and x.endswith('.zip'))\n",
    "\n",
    "if zip_link:\n",
    "    zip_url = zip_link['href']\n",
    "    # Download the ZIP file\n",
    "    if not zip_url.startswith('http'):\n",
    "        zip_url = 'https://digital.nhs.uk' + zip_url  # Correct the URL if it's relative\n",
    "    zip_response = requests.get(zip_url)\n",
    "    zip_response.raise_for_status()  # Ensure the request was successful\n",
    "    \n",
    "    # Save the ZIP file locally\n",
    "    with open('NHS_Workforce_Statistics.zip', 'wb') as f:\n",
    "        f.write(zip_response.content)\n",
    "    print(\"ZIP file has been downloaded successfully.\")\n",
    "else:\n",
    "    print(\"No ZIP file link found on the page.\")\n"
   ]
  },
  {
   "cell_type": "code",
   "execution_count": 26,
   "id": "47076f88",
   "metadata": {},
   "outputs": [
    {
     "name": "stdout",
     "output_type": "stream",
     "text": [
      "Contents extracted to NHS_Workforce_Statistics\n"
     ]
    }
   ],
   "source": [
    "#Unzip latest csv file\n",
    "\n",
    "import zipfile\n",
    "import os\n",
    "\n",
    "# Path to the downloaded ZIP file\n",
    "zip_file_path = 'NHS_Workforce_Statistics.zip'\n",
    "\n",
    "# Directory where the contents will be extracted\n",
    "extract_to_dir = 'NHS_Workforce_Statistics'\n",
    "\n",
    "# Create the directory if it doesn't exist\n",
    "if not os.path.exists(extract_to_dir):\n",
    "    os.makedirs(extract_to_dir)\n",
    "\n",
    "# Extract the ZIP file\n",
    "with zipfile.ZipFile(zip_file_path, 'r') as zip_ref:\n",
    "    zip_ref.extractall(extract_to_dir)\n",
    "\n",
    "print(f\"Contents extracted to {extract_to_dir}\")\n"
   ]
  },
  {
   "cell_type": "code",
   "execution_count": 27,
   "id": "4ed43e6d",
   "metadata": {},
   "outputs": [
    {
     "name": "stdout",
     "output_type": "stream",
     "text": [
      "Data from NHS Workforce Statistics, April 2024 Staff Group and NHSE region.csv:\n"
     ]
    }
   ],
   "source": [
    "# Reload and reprocess the data since the session was reset\n",
    "import dash\n",
    "import dash_core_components as dcc\n",
    "import dash_html_components as html\n",
    "import pandas as pd\n",
    "import plotly.express as px\n",
    "\n",
    "# Directory where the files were extracted\n",
    "extracted_dir = 'NHS_Workforce_Statistics'\n",
    "\n",
    "# Find CSV files that include \"Staff Group and NHSE region\" in their filename\n",
    "for filename in os.listdir(extracted_dir):\n",
    "    if \"Staff Group and NHSE region\" in filename and filename.endswith('.csv'):\n",
    "        full_path = os.path.join(extracted_dir, filename)\n",
    "        # Read the CSV file using pandas\n",
    "        data = pd.read_csv(full_path)\n",
    "        print(f\"Data from {filename}:\")\n",
    "        break\n",
    "else:\n",
    "    print(\"No CSV file containing 'Staff Group and NHSE region' found.\")"
   ]
  },
  {
   "cell_type": "code",
   "execution_count": 28,
   "id": "b9d4adef",
   "metadata": {
    "scrolled": false
   },
   "outputs": [],
   "source": [
    "# Load the uploaded CSV file to reprocess the data\n",
    "data = pd.read_csv(full_path)\n",
    "\n",
    "# Pivot the data to separate FTE and HC into different columns again\n",
    "df = data.pivot_table(\n",
    "    index=[\"Date\", \"NHSE_Region_Code\", \"NHSE_Region_Name\", \"Staff Group Sort Order\", \"Staff Group\"],\n",
    "    columns=\"Data Type\",\n",
    "    values=\"Total\",\n",
    "    aggfunc=\"sum\"\n",
    ").reset_index()\n",
    "\n",
    "# Rename the columns for clarity\n",
    "df.columns = [col if not col in ['FTE', 'HC'] else f\"{col}_Total\" for col in df.columns]\n",
    "\n",
    "# Calculate the ratio of FTE to HC\n",
    "df['FTE_HC_Ratio'] = df['FTE_Total'] / df['HC_Total']"
   ]
  },
  {
   "cell_type": "code",
   "execution_count": 29,
   "id": "db553071",
   "metadata": {},
   "outputs": [
    {
     "data": {
      "text/html": [
       "\n",
       "        <iframe\n",
       "            width=\"100%\"\n",
       "            height=\"650\"\n",
       "            src=\"http://127.0.0.1:8050/\"\n",
       "            frameborder=\"0\"\n",
       "            allowfullscreen\n",
       "            \n",
       "        ></iframe>\n",
       "        "
      ],
      "text/plain": [
       "<IPython.lib.display.IFrame at 0x16c11f190>"
      ]
     },
     "metadata": {},
     "output_type": "display_data"
    }
   ],
   "source": [
    "import dash\n",
    "from dash import dcc, html, Input, Output, State  # Make sure to include Output\n",
    "import plotly.express as px\n",
    "import pandas as pd\n",
    "\n",
    "# Initialize the Dash app\n",
    "app = dash.Dash(__name__)\n",
    "\n",
    "\n",
    "# Layout of the app\n",
    "app.layout = html.Div([\n",
    "    html.H1(\"NHS Workforce Statistics Dashboard\"),\n",
    "    html.Label(\"Select Staff Groups:\"),\n",
    "    dcc.Dropdown(\n",
    "        id='staff_group_selector',\n",
    "        options=[{'label': i, 'value': i} for i in df['Staff Group'].unique()],\n",
    "        value=['Total'],  # Default values\n",
    "        multi=True\n",
    "    ),\n",
    "    html.Label(\"Select NHS Regions:\"),\n",
    "    dcc.Dropdown(\n",
    "        id='region_selector',\n",
    "        options=[{'label': i, 'value': i} for i in df['NHSE_Region_Name'].unique()],\n",
    "        value=['England'],  # Default values\n",
    "        multi=True\n",
    "    ),\n",
    "    html.Label(\"Select Metric:\"),\n",
    "    dcc.Dropdown(\n",
    "        id='metric_selector',\n",
    "        options=[\n",
    "            {'label': 'FTE Total', 'value': 'FTE_Total'},\n",
    "            {'label': 'HC Total', 'value': 'HC_Total'},\n",
    "            {'label': 'FTE to HC Ratio', 'value': 'FTE_HC_Ratio'}\n",
    "        ],\n",
    "        value='FTE_Total'  # Default value\n",
    "    ),\n",
    "    dcc.Graph(id='line_chart'),\n",
    "    html.H2(\"Data Table\"),\n",
    "    html.Div(id='data_table')\n",
    "])\n",
    "\n",
    "# Callback to update the line chart\n",
    "@app.callback(\n",
    "    Output('line_chart', 'figure'),\n",
    "    [Input('staff_group_selector', 'value'),\n",
    "     Input('region_selector', 'value'),\n",
    "     Input('metric_selector', 'value')]\n",
    ")\n",
    "def update_graph(selected_staff_groups, selected_regions, selected_metric):\n",
    "    filtered_df = df[df['Staff Group'].isin(selected_staff_groups) & df['NHSE_Region_Name'].isin(selected_regions)]\n",
    "    fig = px.line(filtered_df, x='Date', y=selected_metric, color='Staff Group', title=f\"{selected_metric} over Time\")\n",
    "    fig.update_layout(\n",
    "        plot_bgcolor='white',\n",
    "        xaxis_title='Date',\n",
    "        yaxis_title=selected_metric,\n",
    "        legend_title_text='Staff Group',\n",
    "        xaxis_showgrid=False,  # Hide the gridlines (optional)\n",
    "        yaxis_showgrid=False,  # Hide the gridlines (optional)\n",
    "        xaxis_linecolor='black',  # X-axis line color\n",
    "        yaxis_linecolor='black',  # Y-axis line color\n",
    "        xaxis_linewidth=2,  # X-axis line width\n",
    "        yaxis_linewidth=2   # Y-axis line width\n",
    "    )\n",
    "    return fig\n",
    "\n",
    "# Callback to update the data table\n",
    "@app.callback(\n",
    "    Output('data_table', 'children'),\n",
    "    [Input('staff_group_selector', 'value'),\n",
    "     Input('region_selector', 'value')]\n",
    ")\n",
    "def update_table(selected_staff_groups, selected_regions):\n",
    "    filtered_df = df[df['Staff Group'].isin(selected_staff_groups) & df['NHSE_Region_Name'].isin(selected_regions)]\n",
    "    return html.Table([\n",
    "        html.Thead(\n",
    "            html.Tr([html.Th(col) for col in filtered_df.columns])\n",
    "        ),\n",
    "        html.Tbody([\n",
    "            html.Tr([\n",
    "                html.Td(filtered_df.iloc[i][col]) for col in filtered_df.columns\n",
    "            ]) for i in range(min(len(filtered_df), 10))  # Display only the first 10 rows\n",
    "        ])\n",
    "    ])\n",
    "\n",
    "# Run the app\n",
    "if __name__ == '__main__':\n",
    "    app.run_server(debug=True)"
   ]
  },
  {
   "cell_type": "code",
   "execution_count": null,
   "id": "23b15558",
   "metadata": {},
   "outputs": [],
   "source": []
  }
 ],
 "metadata": {
  "kernelspec": {
   "display_name": "Python 3 (ipykernel)",
   "language": "python",
   "name": "python3"
  },
  "language_info": {
   "codemirror_mode": {
    "name": "ipython",
    "version": 3
   },
   "file_extension": ".py",
   "mimetype": "text/x-python",
   "name": "python",
   "nbconvert_exporter": "python",
   "pygments_lexer": "ipython3",
   "version": "3.11.5"
  }
 },
 "nbformat": 4,
 "nbformat_minor": 5
}
